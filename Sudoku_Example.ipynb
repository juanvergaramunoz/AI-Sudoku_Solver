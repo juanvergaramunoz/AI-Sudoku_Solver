{
 "cells": [
  {
   "cell_type": "raw",
   "metadata": {},
   "source": [
    "## Project: SudokuSolver\n",
    "## Element: Sudoku_Example -> PYTHON NOTEBOOK that shows how to use the Sudoku solver\n",
    "## Creator: juanvergaramunoz\n",
    "## Year: 2018"
   ]
  },
  {
   "cell_type": "markdown",
   "metadata": {},
   "source": [
    "# SUDOKU SOLVER - Execution Notebook\n",
    "\n",
    "**-> Creator: juanvergaramunoz**\n",
    "\n",
    "In this notebook we show how to use the \"Sudoku Solver\" provided (as an example of a Constraint Satisfaction Problem).\n",
    "\n",
    "- This project was developed throughout Udacity's \"Aritifical Intelligence Nanodegree Program\".\n",
    "\n",
    "**This sudoku solver allows Diagonal Sudokus. Use the second parameter of the solver function to activate it!**\n",
    "\n",
    "The input should be a list of each of the rows of the sudoku concatenated one after the other from top to bottom. Dots (.) are used to indicate an empty spot to be solved."
   ]
  },
  {
   "cell_type": "code",
   "execution_count": 1,
   "metadata": {},
   "outputs": [],
   "source": [
    "## We import the Sudoku and Auxiliar Functions\n",
    "from ExtraFunctions import *    # This includes functions related to displaying results\n",
    "from SudokuFunctions import *   # This includes the \"solve\" function and all the Constraint Satisfaction Functions"
   ]
  },
  {
   "cell_type": "code",
   "execution_count": 2,
   "metadata": {},
   "outputs": [
    {
     "name": "stdout",
     "output_type": "stream",
     "text": [
      "9 _ 1 |_ _ _ |_ 8 _ \n",
      "8 _ 5 |_ 7 _ |_ 4 _ \n",
      "2 _ 4 |_ _ _ |_ 6 _ \n",
      "------+------+------\n",
      "_ _ 7 |_ _ _ |_ _ _ \n",
      "5 _ _ |_ _ _ |_ _ _ \n",
      "_ _ _ |_ _ _ |8 3 _ \n",
      "------+------+------\n",
      "3 _ _ |6 _ _ |_ _ _ \n",
      "_ 9 _ |_ _ _ |_ _ _ \n",
      "_ _ _ |_ _ _ |_ _ _ \n",
      "\n"
     ]
    }
   ],
   "source": [
    "## Now, you define your Sudoku and you display it:\n",
    "sudoku_example = '9.1....8.8.5.7..4.2.4....6...7......5..............83.3..6......9................'\n",
    "display(grid2values_changed(sudoku_example))"
   ]
  },
  {
   "cell_type": "code",
   "execution_count": 3,
   "metadata": {},
   "outputs": [
    {
     "name": "stdout",
     "output_type": "stream",
     "text": [
      "9 6 1 |3 5 4 |2 8 7 \n",
      "8 3 5 |2 7 6 |1 4 9 \n",
      "2 7 4 |8 9 1 |3 6 5 \n",
      "------+------+------\n",
      "4 2 7 |1 3 8 |9 5 6 \n",
      "5 8 3 |9 6 2 |7 1 4 \n",
      "6 1 9 |5 4 7 |8 3 2 \n",
      "------+------+------\n",
      "3 4 2 |6 8 9 |5 7 1 \n",
      "7 9 8 |4 1 5 |6 2 3 \n",
      "1 5 6 |7 2 3 |4 9 8 \n",
      "\n"
     ]
    }
   ],
   "source": [
    "## Now you solve the Sudoku and display the result:\n",
    "values = solve(sudoku_example, True) #The second value is True in order to indicate Diagonal Sudoku\n",
    "display(values)"
   ]
  },
  {
   "cell_type": "code",
   "execution_count": 4,
   "metadata": {},
   "outputs": [
    {
     "name": "stdout",
     "output_type": "stream",
     "text": [
      "Errors found:  We have not found any errors!\n",
      "  * Rows range -> A-I | Columns range -> 1-9\n"
     ]
    }
   ],
   "source": [
    "## THE FOLLOWING FUNCTION WILL IDENTIFY IF ANY PAIR OF BOXES IN THE SAME UNIT (row, column, 3x3 square and diagonal)\n",
    "### HAVE THE SAME NUMBER -> You check if your input is correctly placed!  \n",
    "\n",
    "# The input should be a dictionary such as the one given by solve function\n",
    "## If you want to input a sudoku directly in the list format, use \"grid2values_changed\" function to convert it first  \n",
    "list_of_errors = check_boxes(values)\n",
    "\n",
    "print(\"Errors found: \", list_of_errors)\n",
    "print(\"  * Rows range -> A-I | Columns range -> 1-9\")"
   ]
  },
  {
   "cell_type": "markdown",
   "metadata": {},
   "source": [
    "# OTHER EXAMPLES:"
   ]
  },
  {
   "cell_type": "code",
   "execution_count": 5,
   "metadata": {},
   "outputs": [
    {
     "name": "stdout",
     "output_type": "stream",
     "text": [
      "************ FIRST SUDOKU ************\n",
      "\n",
      "4 2 8 |7 _ _ |_ _ _ \n",
      "_ 9 7 |_ _ _ |1 _ 6 \n",
      "_ _ _ |_ 4 _ |_ _ _ \n",
      "------+------+------\n",
      "_ 4 _ |_ _ 8 |_ _ 3 \n",
      "_ _ 2 |_ _ _ |7 _ _ \n",
      "6 _ _ |5 _ _ |_ 2 _ \n",
      "------+------+------\n",
      "_ _ _ |_ 5 _ |_ _ _ \n",
      "8 _ 6 |_ _ _ |4 1 _ \n",
      "_ _ _ |_ _ 1 |6 5 7 \n",
      "\n",
      "4 2 8 |7 1 6 |9 3 5 \n",
      "3 9 7 |8 2 5 |1 4 6 \n",
      "1 6 5 |3 4 9 |2 7 8 \n",
      "------+------+------\n",
      "9 4 1 |2 7 8 |5 6 3 \n",
      "5 8 2 |1 6 3 |7 9 4 \n",
      "6 7 3 |5 9 4 |8 2 1 \n",
      "------+------+------\n",
      "7 1 4 |6 5 2 |3 8 9 \n",
      "8 5 6 |9 3 7 |4 1 2 \n",
      "2 3 9 |4 8 1 |6 5 7 \n",
      "\n",
      "Errors found:  We have not found any errors!\n",
      "  * Rows range -> A-I | Columns range -> 1-9\n",
      "\n",
      "************ SECOND SUDOKU ************\n",
      "\n",
      "8 4 _ |1 _ _ |_ _ _ \n",
      "_ 5 _ |6 _ _ |7 _ _ \n",
      "1 9 _ |3 _ _ |_ _ _ \n",
      "------+------+------\n",
      "_ _ 1 |_ _ _ |_ 5 _ \n",
      "6 _ 9 |_ _ _ |2 _ 8 \n",
      "_ 7 _ |_ _ _ |9 _ _ \n",
      "------+------+------\n",
      "_ _ _ |_ _ 1 |_ 7 3 \n",
      "_ _ 5 |_ _ 2 |_ 9 _ \n",
      "_ _ _ |_ _ 7 |_ 6 2 \n",
      "\n",
      "8 4 7 |1 2 5 |6 3 9 \n",
      "2 5 3 |6 4 9 |7 8 1 \n",
      "1 9 6 |3 7 8 |4 2 5 \n",
      "------+------+------\n",
      "4 2 1 |9 8 6 |3 5 7 \n",
      "6 3 9 |7 5 4 |2 1 8 \n",
      "5 7 8 |2 1 3 |9 4 6 \n",
      "------+------+------\n",
      "9 8 2 |4 6 1 |5 7 3 \n",
      "7 6 5 |8 3 2 |1 9 4 \n",
      "3 1 4 |5 9 7 |8 6 2 \n",
      "\n",
      "Errors found:  We have not found any errors!\n",
      "  * Rows range -> A-I | Columns range -> 1-9\n",
      "\n",
      "******** SECOND SUDOKU - Error Variant ********\n",
      "\n",
      "8 4 _ |1 _ 2 |_ _ 8 \n",
      "_ 5 _ |6 _ _ |7 _ _ \n",
      "1 9 _ |3 _ _ |_ _ _ \n",
      "------+------+------\n",
      "_ _ 1 |_ _ _ |_ 5 _ \n",
      "6 _ 9 |_ _ _ |2 _ 8 \n",
      "_ 7 _ |_ _ _ |9 _ _ \n",
      "------+------+------\n",
      "_ _ _ |_ _ 1 |_ 7 3 \n",
      "_ _ 5 |_ _ 2 |_ 9 _ \n",
      "_ _ _ |_ _ 7 |_ 6 2 \n",
      "\n",
      "Sorry, there is no solution for this Sudoku...\n",
      "Make sure the input has been correctly inserted!  :-)\n",
      "\n",
      "8 4 _ |1 _ 2 |_ _ 8 \n",
      "_ 5 _ |6 _ _ |7 _ _ \n",
      "1 9 _ |3 _ _ |_ _ _ \n",
      "------+------+------\n",
      "_ _ 1 |_ _ _ |_ 5 _ \n",
      "6 _ 9 |_ _ _ |2 _ 8 \n",
      "_ 7 _ |_ _ _ |9 _ _ \n",
      "------+------+------\n",
      "_ _ _ |_ _ 1 |_ 7 3 \n",
      "_ _ 5 |_ _ 2 |_ 9 _ \n",
      "_ _ _ |_ _ 7 |_ 6 2 \n",
      "\n",
      "Errors found:  [['A9', 'A1'], ['H6', 'A6'], ['E9', 'A9']]\n",
      "  * Rows range -> A-I | Columns range -> 1-9\n",
      "\n"
     ]
    }
   ],
   "source": [
    "## We import the Sudoku and Auxiliar Functions\n",
    "from ExtraFunctions import *    # This includes functions related to displaying results\n",
    "from SudokuFunctions import *   # This includes the \"solve\" function and all the Constraint Satisfaction Functions\n",
    "\n",
    "## ************************* SUDOKU NUMBER 1 *************************\n",
    "print(\"************ FIRST SUDOKU ************\")\n",
    "print()\n",
    "sudoku_example_1 = '4287......97...1.6....4.....4...8..3..2...7..6..5...2.....5....8.6...41......1657'\n",
    "display(grid2values_changed(sudoku_example_1))\n",
    "\n",
    "## Now you solve the Sudoku and display the result:\n",
    "values_1 = solve(sudoku_example_1, False) #Set second parameter to True for \"Diagonal Sudokus\"\n",
    "display(values_1)\n",
    "\n",
    "## Now you check any errors, just in case the solution was mistaken\n",
    "list_of_errors_1 = check_boxes(values_1)\n",
    "print(\"Errors found: \", list_of_errors_1)\n",
    "print(\"  * Rows range -> A-I | Columns range -> 1-9\")\n",
    "print()\n",
    "\n",
    "## ************************* SUDOKU NUMBER 2 *************************\n",
    "print(\"************ SECOND SUDOKU ************\")\n",
    "print()\n",
    "sudoku_example_2 = '84.1......5.6..7..19.3.......1....5.6.9...2.8.7....9.......1.73..5..2.9......7.62'\n",
    "display(grid2values_changed(sudoku_example_2))\n",
    "\n",
    "## Now you solve the Sudoku and display the result:\n",
    "values_2 = solve(sudoku_example_2, False) #Set second parameter to True for \"Diagonal Sudokus\"\n",
    "display(values_2)\n",
    "\n",
    "## Now you check any errors, just in case the solution was mistaken\n",
    "list_of_errors_2 = check_boxes(values_2)\n",
    "print(\"Errors found: \", list_of_errors_2)\n",
    "print(\"  * Rows range -> A-I | Columns range -> 1-9\")\n",
    "print()\n",
    "\n",
    "## ************************* SUDOKU NUMBER 2 - Error Variant! *************************\n",
    "print(\"******** SECOND SUDOKU - Error Variant ********\")\n",
    "print()\n",
    "sudoku_example_2 = '84.1.2..8.5.6..7..19.3.......1....5.6.9...2.8.7....9.......1.73..5..2.9......7.62'\n",
    "display(grid2values_changed(sudoku_example_2))\n",
    "\n",
    "## Now you solve the Sudoku and display the result:\n",
    "values_2 = solve(sudoku_example_2, False) #Set second parameter to True for \"Diagonal Sudokus\"\n",
    "display(values_2)\n",
    "\n",
    "## Now you check any errors, just in case the solution was mistaken\n",
    "list_of_errors_2 = check_boxes(values_2)\n",
    "print(\"Errors found: \", list_of_errors_2)\n",
    "print(\"  * Rows range -> A-I | Columns range -> 1-9\")\n",
    "print()\n"
   ]
  },
  {
   "cell_type": "markdown",
   "metadata": {},
   "source": [
    "# TRY HERE YOUR OWN CODE!"
   ]
  },
  {
   "cell_type": "code",
   "execution_count": null,
   "metadata": {},
   "outputs": [],
   "source": [
    "## We import the Sudoku and Auxiliar Functions\n",
    "from ExtraFunctions import *    # This includes functions related to displaying results\n",
    "from SudokuFunctions import *   # This includes the \"solve\" function and all the Constraint Satisfaction Functions\n",
    "\n",
    "print(\"************ YOUR SUDOKU ************\")\n",
    "print()\n",
    "## Now, you define your Sudoku and you display it:\n",
    "sudoku_example = '9.1....8.8.5.7..4.2.4....6...7......5..............83.3..6......9................'\n",
    "display(grid2values_changed(sudoku_example))\n",
    "\n",
    "## Now you solve the Sudoku and display the result:\n",
    "values = solve(sudoku_example, False) #Set second parameter to True for \"Diagonal Sudokus\"\n",
    "display(values)\n",
    "\n",
    "## Now you check any errors, just in case the solution was mistaken!\n",
    "list_of_errors = check_boxes(values)\n",
    "print(\"Errors found: \", list_of_errors)\n",
    "print(\"  * Rows range -> A-I | Columns range -> 1-9\")\n"
   ]
  },
  {
   "cell_type": "code",
   "execution_count": null,
   "metadata": {},
   "outputs": [],
   "source": []
  }
 ],
 "metadata": {
  "kernelspec": {
   "display_name": "Python 3",
   "language": "python",
   "name": "python3"
  },
  "language_info": {
   "codemirror_mode": {
    "name": "ipython",
    "version": 3
   },
   "file_extension": ".py",
   "mimetype": "text/x-python",
   "name": "python",
   "nbconvert_exporter": "python",
   "pygments_lexer": "ipython3",
   "version": "3.6.4"
  }
 },
 "nbformat": 4,
 "nbformat_minor": 2
}
